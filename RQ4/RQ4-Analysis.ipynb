{
 "cells": [
  {
   "cell_type": "code",
   "execution_count": null,
   "metadata": {},
   "outputs": [],
   "source": [
    "#Link the query dataset and the smell dataset with the refactoring dataset\n",
    "#ref_id, files, lines\n",
    "#line level co-occurence...query..smells\n",
    "#method level co-occurene...query..smells (1,0)\n",
    "import pandas as pd"
   ]
  },
  {
   "cell_type": "code",
   "execution_count": null,
   "metadata": {},
   "outputs": [],
   "source": [
    "#import the refactoring dataset\n",
    "ref=pd.read_csv(\"../data/refactorings.csv\",sep=\"$\")\n",
    "#import the query dataset\n",
    "query=pd.read_csv(\"RQ4-queries.csv\", sep=\"?\")\n",
    "#import the smells dataset\n",
    "smell=pd.read_csv(\"RQ4-smells.csv\")"
   ]
  },
  {
   "cell_type": "code",
   "execution_count": null,
   "metadata": {},
   "outputs": [],
   "source": [
    "dac_ref=ref[ref[\"is_dac\"]==True] #we only need data-access refactorings\n",
    "del ref"
   ]
  },
  {
   "cell_type": "code",
   "execution_count": 96,
   "metadata": {},
   "outputs": [
    {
     "data": {
      "text/plain": [
       "18892"
      ]
     },
     "execution_count": 96,
     "metadata": {},
     "output_type": "execute_result"
    }
   ],
   "source": [
    "len(dac_ref.index)"
   ]
  },
  {
   "cell_type": "code",
   "execution_count": 44,
   "metadata": {},
   "outputs": [
    {
     "data": {
      "text/plain": [
       "[53]"
      ]
     },
     "execution_count": 44,
     "metadata": {},
     "output_type": "execute_result"
    }
   ],
   "source": [
    "ref_lines=[]\n",
    "for l in dac_ref.head(1)['lines'].tolist():\n",
    "    t=eval(l)\n",
    "    for tup in t:\n",
    "        ref_lines.extend(list(set(list(tup))))\n",
    "ref_lines"
   ]
  },
  {
   "cell_type": "code",
   "execution_count": 85,
   "metadata": {},
   "outputs": [],
   "source": [
    "def is_line_matched(ref_line, target_line):\n",
    "    for l in ref_line:\n",
    "        if l in target_line:\n",
    "            return True\n",
    "    return False"
   ]
  },
  {
   "cell_type": "code",
   "execution_count": 97,
   "metadata": {},
   "outputs": [],
   "source": [
    "#write the function that peforms the match at line level\n",
    "rq4_dataset_line=[]\n",
    "def match_by_line(row):\n",
    "    d={}\n",
    "    d[\"ref_id\"]=row[\"ref_id\"]\n",
    "    d[\"ref_type\"]=row[\"ref_type\"]\n",
    "    d[\"file_name\"]=row[\"file_name\"]\n",
    "    fileName=eval(row[\"file_name\"])\n",
    "    #search for match with query\n",
    "    \n",
    "    hits=query[(query[\"sha\"]==row[\"sha\"]) & (query[\"className\"].isin(fileName))]\n",
    "    query_lines=[]\n",
    "    for l in hits['lines'].tolist():\n",
    "        query_lines.extend(eval(l))\n",
    "    ref_lines=[]\n",
    "    for l in eval(row['lines']):\n",
    "        ref_lines.extend(list(set(list(tup))))\n",
    "    if is_line_matched(ref_lines, query_lines):\n",
    "        d[\"query\"]= 1\n",
    "    else:\n",
    "        d[\"query\"]=0\n",
    "    #FEAR_OF_THE_UNKNOWN\n",
    "    sf_hits= smell[(smell['sha']==row[\"sha\"]) & (smell['className'].isin(fileName)) & (smell[\"kind\"]==\"FEAR_OF_THE_UNKNOWN\")]\n",
    "    sf_lines=[]\n",
    "    for l in sf_hits['line'].tolist():\n",
    "        sf_lines.append(l)\n",
    "    if is_line_matched(ref_lines, sf_lines):\n",
    "        d[\"FEAR_OF_THE_UNKNOWN\"]=1\n",
    "    else:\n",
    "        d[\"FEAR_OF_THE_UNKNOWN\"]=0\n",
    "    si_hits= smell[(smell['sha']==row[\"sha\"]) & (smell['className'].isin(fileName)) & (smell[\"kind\"]==\"IMPLICIT_COLUMNS\")]\n",
    "    #IMPLICIT_COLUMNS\n",
    "    si_lines=[]\n",
    "    for l in si_hits['line'].tolist():\n",
    "        si_lines.append(l)\n",
    "    if is_line_matched(ref_lines, si_lines):\n",
    "        d[\"IMPLICIT_COLUMNS\"]=1\n",
    "    else:\n",
    "        d[\"IMPLICIT_COLUMNS\"]=0\n",
    "    rq4_dataset_line.append(d)\n",
    "    print(\"Index:{}/{}\".format(row.name, len(dac_ref.index)))\n",
    "    return True"
   ]
  },
  {
   "cell_type": "code",
   "execution_count": null,
   "metadata": {},
   "outputs": [],
   "source": [
    "#apply the function\n",
    "dac_ref[\"line_matched\"]=dac_ref.apply(match_by_line, axis=1)"
   ]
  },
  {
   "cell_type": "code",
   "execution_count": 100,
   "metadata": {},
   "outputs": [
    {
     "data": {
      "text/html": [
       "<div>\n",
       "<style scoped>\n",
       "    .dataframe tbody tr th:only-of-type {\n",
       "        vertical-align: middle;\n",
       "    }\n",
       "\n",
       "    .dataframe tbody tr th {\n",
       "        vertical-align: top;\n",
       "    }\n",
       "\n",
       "    .dataframe thead th {\n",
       "        text-align: right;\n",
       "    }\n",
       "</style>\n",
       "<table border=\"1\" class=\"dataframe\">\n",
       "  <thead>\n",
       "    <tr style=\"text-align: right;\">\n",
       "      <th></th>\n",
       "      <th>ref_id</th>\n",
       "      <th>ref_type</th>\n",
       "      <th>file_name</th>\n",
       "      <th>query</th>\n",
       "      <th>FEAR_OF_THE_UNKNOWN</th>\n",
       "      <th>IMPLICIT_COLUMNS</th>\n",
       "    </tr>\n",
       "  </thead>\n",
       "  <tbody>\n",
       "    <tr>\n",
       "      <th>0</th>\n",
       "      <td>oltpbench-d97a34c952f90de191d76ab5efaf32860d58...</td>\n",
       "      <td>Encapsulate Attribute</td>\n",
       "      <td>['src/com/oltpbenchmark/api/Loader.java']</td>\n",
       "      <td>0</td>\n",
       "      <td>0</td>\n",
       "      <td>0</td>\n",
       "    </tr>\n",
       "    <tr>\n",
       "      <th>1</th>\n",
       "      <td>oltpbench-d77ff02e21a0b56e74ad35bb8cd53e9a5ea4...</td>\n",
       "      <td>Extract Subclass</td>\n",
       "      <td>['src/com/oltpbenchmark/api/collectors/NoopCol...</td>\n",
       "      <td>0</td>\n",
       "      <td>0</td>\n",
       "      <td>0</td>\n",
       "    </tr>\n",
       "    <tr>\n",
       "      <th>2</th>\n",
       "      <td>oltpbench-35114287311ebd257fa4cdf440d754f42016...</td>\n",
       "      <td>Add Parameter</td>\n",
       "      <td>['src/com/oltpbenchmark/benchmarks/tpch/TPCHLo...</td>\n",
       "      <td>0</td>\n",
       "      <td>0</td>\n",
       "      <td>0</td>\n",
       "    </tr>\n",
       "    <tr>\n",
       "      <th>3</th>\n",
       "      <td>oltpbench-35114287311ebd257fa4cdf440d754f42016...</td>\n",
       "      <td>Add Parameter</td>\n",
       "      <td>['src/com/oltpbenchmark/benchmarks/tpch/TPCHLo...</td>\n",
       "      <td>0</td>\n",
       "      <td>0</td>\n",
       "      <td>0</td>\n",
       "    </tr>\n",
       "    <tr>\n",
       "      <th>4</th>\n",
       "      <td>oltpbench-35114287311ebd257fa4cdf440d754f42016...</td>\n",
       "      <td>Add Parameter</td>\n",
       "      <td>['src/com/oltpbenchmark/benchmarks/tpch/TPCHLo...</td>\n",
       "      <td>0</td>\n",
       "      <td>0</td>\n",
       "      <td>0</td>\n",
       "    </tr>\n",
       "  </tbody>\n",
       "</table>\n",
       "</div>"
      ],
      "text/plain": [
       "                                              ref_id               ref_type  \\\n",
       "0  oltpbench-d97a34c952f90de191d76ab5efaf32860d58...  Encapsulate Attribute   \n",
       "1  oltpbench-d77ff02e21a0b56e74ad35bb8cd53e9a5ea4...       Extract Subclass   \n",
       "2  oltpbench-35114287311ebd257fa4cdf440d754f42016...          Add Parameter   \n",
       "3  oltpbench-35114287311ebd257fa4cdf440d754f42016...          Add Parameter   \n",
       "4  oltpbench-35114287311ebd257fa4cdf440d754f42016...          Add Parameter   \n",
       "\n",
       "                                           file_name  query  \\\n",
       "0          ['src/com/oltpbenchmark/api/Loader.java']      0   \n",
       "1  ['src/com/oltpbenchmark/api/collectors/NoopCol...      0   \n",
       "2  ['src/com/oltpbenchmark/benchmarks/tpch/TPCHLo...      0   \n",
       "3  ['src/com/oltpbenchmark/benchmarks/tpch/TPCHLo...      0   \n",
       "4  ['src/com/oltpbenchmark/benchmarks/tpch/TPCHLo...      0   \n",
       "\n",
       "   FEAR_OF_THE_UNKNOWN  IMPLICIT_COLUMNS  \n",
       "0                    0                 0  \n",
       "1                    0                 0  \n",
       "2                    0                 0  \n",
       "3                    0                 0  \n",
       "4                    0                 0  "
      ]
     },
     "execution_count": 100,
     "metadata": {},
     "output_type": "execute_result"
    }
   ],
   "source": [
    "rq4_line=pd.DataFrame(rq4_dataset_line)\n",
    "rq4_line"
   ]
  },
  {
   "cell_type": "code",
   "execution_count": 105,
   "metadata": {},
   "outputs": [],
   "source": [
    "rq4_line.to_csv(\"RQ4-linematch-dataset.csv\", index=False)"
   ]
  },
  {
   "cell_type": "code",
   "execution_count": 106,
   "metadata": {},
   "outputs": [
    {
     "data": {
      "text/html": [
       "<div>\n",
       "<style scoped>\n",
       "    .dataframe tbody tr th:only-of-type {\n",
       "        vertical-align: middle;\n",
       "    }\n",
       "\n",
       "    .dataframe tbody tr th {\n",
       "        vertical-align: top;\n",
       "    }\n",
       "\n",
       "    .dataframe thead th {\n",
       "        text-align: right;\n",
       "    }\n",
       "</style>\n",
       "<table border=\"1\" class=\"dataframe\">\n",
       "  <thead>\n",
       "    <tr style=\"text-align: right;\">\n",
       "      <th></th>\n",
       "      <th>repo</th>\n",
       "      <th>sha</th>\n",
       "      <th>ref_id</th>\n",
       "      <th>ref_type</th>\n",
       "      <th>key</th>\n",
       "      <th>ref_desc</th>\n",
       "      <th>file_name</th>\n",
       "      <th>method_lines</th>\n",
       "      <th>lines</th>\n",
       "      <th>is_dac</th>\n",
       "      <th>line_matched</th>\n",
       "    </tr>\n",
       "  </thead>\n",
       "  <tbody>\n",
       "    <tr>\n",
       "      <th>3</th>\n",
       "      <td>oltpbench</td>\n",
       "      <td>d97a34c952f90de191d76ab5efaf32860d58b1f7</td>\n",
       "      <td>oltpbench-d97a34c952f90de191d76ab5efaf32860d58...</td>\n",
       "      <td>Encapsulate Attribute</td>\n",
       "      <td>b'wRYepah0BkPqrFALJFQ9h4sNbEJfeQfzxaTojPNF_cM='</td>\n",
       "      <td>b'gAAAAABg7M2-K9VVgaBV-FC3mUMD5lPCt0CXN-y3L_dU...</td>\n",
       "      <td>['src/com/oltpbenchmark/api/Loader.java']</td>\n",
       "      <td>[(81, 83)]</td>\n",
       "      <td>[(53, 53)]</td>\n",
       "      <td>True</td>\n",
       "      <td>True</td>\n",
       "    </tr>\n",
       "    <tr>\n",
       "      <th>13</th>\n",
       "      <td>oltpbench</td>\n",
       "      <td>d77ff02e21a0b56e74ad35bb8cd53e9a5ea44194</td>\n",
       "      <td>oltpbench-d77ff02e21a0b56e74ad35bb8cd53e9a5ea4...</td>\n",
       "      <td>Extract Subclass</td>\n",
       "      <td>b'wRYepah0BkPqrFALJFQ9h4sNbEJfeQfzxaTojPNF_cM='</td>\n",
       "      <td>b'gAAAAABg7M2-AqHAmSzDYOsyIa_mRrYWxgexhj7tPYiI...</td>\n",
       "      <td>['src/com/oltpbenchmark/api/collectors/NoopCol...</td>\n",
       "      <td>[(49, 52), (54, 57)]</td>\n",
       "      <td>[(3, 19)]</td>\n",
       "      <td>True</td>\n",
       "      <td>True</td>\n",
       "    </tr>\n",
       "    <tr>\n",
       "      <th>16</th>\n",
       "      <td>oltpbench</td>\n",
       "      <td>35114287311ebd257fa4cdf440d754f420163149</td>\n",
       "      <td>oltpbench-35114287311ebd257fa4cdf440d754f42016...</td>\n",
       "      <td>Add Parameter</td>\n",
       "      <td>b'wRYepah0BkPqrFALJFQ9h4sNbEJfeQfzxaTojPNF_cM='</td>\n",
       "      <td>b'gAAAAABg7M2-tGqlBcr8_PEET-rWjq-D-qChKq45XidQ...</td>\n",
       "      <td>['src/com/oltpbenchmark/benchmarks/tpch/TPCHLo...</td>\n",
       "      <td>[(276, 278)]</td>\n",
       "      <td>[(276, 276)]</td>\n",
       "      <td>True</td>\n",
       "      <td>True</td>\n",
       "    </tr>\n",
       "    <tr>\n",
       "      <th>17</th>\n",
       "      <td>oltpbench</td>\n",
       "      <td>35114287311ebd257fa4cdf440d754f420163149</td>\n",
       "      <td>oltpbench-35114287311ebd257fa4cdf440d754f42016...</td>\n",
       "      <td>Add Parameter</td>\n",
       "      <td>b'wRYepah0BkPqrFALJFQ9h4sNbEJfeQfzxaTojPNF_cM='</td>\n",
       "      <td>b'gAAAAABg7M2-wF1_jGgMdb9YepEgKoozsxozQ1XB2PV-...</td>\n",
       "      <td>['src/com/oltpbenchmark/benchmarks/tpch/TPCHLo...</td>\n",
       "      <td>[(280, 282)]</td>\n",
       "      <td>[(280, 280)]</td>\n",
       "      <td>True</td>\n",
       "      <td>True</td>\n",
       "    </tr>\n",
       "    <tr>\n",
       "      <th>18</th>\n",
       "      <td>oltpbench</td>\n",
       "      <td>35114287311ebd257fa4cdf440d754f420163149</td>\n",
       "      <td>oltpbench-35114287311ebd257fa4cdf440d754f42016...</td>\n",
       "      <td>Add Parameter</td>\n",
       "      <td>b'wRYepah0BkPqrFALJFQ9h4sNbEJfeQfzxaTojPNF_cM='</td>\n",
       "      <td>b'gAAAAABg7M2-1RavuhnNt1to3cf7DhrBxzaGT9Xp5OUD...</td>\n",
       "      <td>['src/com/oltpbenchmark/benchmarks/tpch/TPCHLo...</td>\n",
       "      <td>[(284, 286)]</td>\n",
       "      <td>[(284, 284)]</td>\n",
       "      <td>True</td>\n",
       "      <td>True</td>\n",
       "    </tr>\n",
       "  </tbody>\n",
       "</table>\n",
       "</div>"
      ],
      "text/plain": [
       "         repo                                       sha  \\\n",
       "3   oltpbench  d97a34c952f90de191d76ab5efaf32860d58b1f7   \n",
       "13  oltpbench  d77ff02e21a0b56e74ad35bb8cd53e9a5ea44194   \n",
       "16  oltpbench  35114287311ebd257fa4cdf440d754f420163149   \n",
       "17  oltpbench  35114287311ebd257fa4cdf440d754f420163149   \n",
       "18  oltpbench  35114287311ebd257fa4cdf440d754f420163149   \n",
       "\n",
       "                                               ref_id               ref_type  \\\n",
       "3   oltpbench-d97a34c952f90de191d76ab5efaf32860d58...  Encapsulate Attribute   \n",
       "13  oltpbench-d77ff02e21a0b56e74ad35bb8cd53e9a5ea4...       Extract Subclass   \n",
       "16  oltpbench-35114287311ebd257fa4cdf440d754f42016...          Add Parameter   \n",
       "17  oltpbench-35114287311ebd257fa4cdf440d754f42016...          Add Parameter   \n",
       "18  oltpbench-35114287311ebd257fa4cdf440d754f42016...          Add Parameter   \n",
       "\n",
       "                                                key  \\\n",
       "3   b'wRYepah0BkPqrFALJFQ9h4sNbEJfeQfzxaTojPNF_cM='   \n",
       "13  b'wRYepah0BkPqrFALJFQ9h4sNbEJfeQfzxaTojPNF_cM='   \n",
       "16  b'wRYepah0BkPqrFALJFQ9h4sNbEJfeQfzxaTojPNF_cM='   \n",
       "17  b'wRYepah0BkPqrFALJFQ9h4sNbEJfeQfzxaTojPNF_cM='   \n",
       "18  b'wRYepah0BkPqrFALJFQ9h4sNbEJfeQfzxaTojPNF_cM='   \n",
       "\n",
       "                                             ref_desc  \\\n",
       "3   b'gAAAAABg7M2-K9VVgaBV-FC3mUMD5lPCt0CXN-y3L_dU...   \n",
       "13  b'gAAAAABg7M2-AqHAmSzDYOsyIa_mRrYWxgexhj7tPYiI...   \n",
       "16  b'gAAAAABg7M2-tGqlBcr8_PEET-rWjq-D-qChKq45XidQ...   \n",
       "17  b'gAAAAABg7M2-wF1_jGgMdb9YepEgKoozsxozQ1XB2PV-...   \n",
       "18  b'gAAAAABg7M2-1RavuhnNt1to3cf7DhrBxzaGT9Xp5OUD...   \n",
       "\n",
       "                                            file_name          method_lines  \\\n",
       "3           ['src/com/oltpbenchmark/api/Loader.java']            [(81, 83)]   \n",
       "13  ['src/com/oltpbenchmark/api/collectors/NoopCol...  [(49, 52), (54, 57)]   \n",
       "16  ['src/com/oltpbenchmark/benchmarks/tpch/TPCHLo...          [(276, 278)]   \n",
       "17  ['src/com/oltpbenchmark/benchmarks/tpch/TPCHLo...          [(280, 282)]   \n",
       "18  ['src/com/oltpbenchmark/benchmarks/tpch/TPCHLo...          [(284, 286)]   \n",
       "\n",
       "           lines  is_dac  line_matched  \n",
       "3     [(53, 53)]    True          True  \n",
       "13     [(3, 19)]    True          True  \n",
       "16  [(276, 276)]    True          True  \n",
       "17  [(280, 280)]    True          True  \n",
       "18  [(284, 284)]    True          True  "
      ]
     },
     "execution_count": 106,
     "metadata": {},
     "output_type": "execute_result"
    }
   ],
   "source": [
    "#Now lets do the method level matchs\n",
    "dac_ref.head()"
   ]
  },
  {
   "cell_type": "code",
   "execution_count": 115,
   "metadata": {},
   "outputs": [],
   "source": [
    "def is_method_matched(ref_method_lines, target_lines):\n",
    "    for tup in ref_method_lines:\n",
    "        line_min=tup[0]\n",
    "        line_max=tup[1]\n",
    "        for l in target_lines:\n",
    "            if line_min <= l <= line_max:\n",
    "                return True\n",
    "    return False"
   ]
  },
  {
   "cell_type": "code",
   "execution_count": 116,
   "metadata": {},
   "outputs": [],
   "source": [
    "#write the function that peforms the match at method level\n",
    "rq4_dataset_method=[]\n",
    "def match_by_method(row):\n",
    "    d={}\n",
    "    d[\"ref_id\"]=row[\"ref_id\"]\n",
    "    d[\"ref_type\"]=row[\"ref_type\"]\n",
    "    d[\"file_name\"]=row[\"file_name\"]\n",
    "    fileName=eval(row[\"file_name\"])\n",
    "    #search for match with query\n",
    "    \n",
    "    hits=query[(query[\"sha\"]==row[\"sha\"]) & (query[\"className\"].isin(fileName))]\n",
    "    query_lines=[]\n",
    "    for l in hits['lines'].tolist():\n",
    "        query_lines.extend(eval(l))\n",
    "    ref_lines=eval(row['method_lines'])\n",
    "    if is_method_matched(ref_lines, query_lines):\n",
    "        d[\"query\"]= 1\n",
    "    else:\n",
    "        d[\"query\"]=0\n",
    "    #FEAR_OF_THE_UNKNOWN\n",
    "    sf_hits= smell[(smell['sha']==row[\"sha\"]) & (smell['className'].isin(fileName)) & (smell[\"kind\"]==\"FEAR_OF_THE_UNKNOWN\")]\n",
    "    sf_lines=[]\n",
    "    for l in sf_hits['line'].tolist():\n",
    "        sf_lines.append(l)\n",
    "    if is_method_matched(ref_lines, sf_lines):\n",
    "        d[\"FEAR_OF_THE_UNKNOWN\"]=1\n",
    "    else:\n",
    "        d[\"FEAR_OF_THE_UNKNOWN\"]=0\n",
    "    si_hits= smell[(smell['sha']==row[\"sha\"]) & (smell['className'].isin(fileName)) & (smell[\"kind\"]==\"IMPLICIT_COLUMNS\")]\n",
    "    #IMPLICIT_COLUMNS\n",
    "    si_lines=[]\n",
    "    for l in si_hits['line'].tolist():\n",
    "        si_lines.append(l)\n",
    "    if is_method_matched(ref_lines, si_lines):\n",
    "        d[\"IMPLICIT_COLUMNS\"]=1\n",
    "    else:\n",
    "        d[\"IMPLICIT_COLUMNS\"]=0\n",
    "    rq4_dataset_method.append(d)\n",
    "    print(\"Index:{}/{}\".format(row.name, len(dac_ref.index)))\n",
    "    return True"
   ]
  },
  {
   "cell_type": "code",
   "execution_count": null,
   "metadata": {},
   "outputs": [],
   "source": [
    "#apply the function\n",
    "dac_ref[\"method_matched\"]=dac_ref.apply(match_by_method, axis=1)"
   ]
  },
  {
   "cell_type": "code",
   "execution_count": 118,
   "metadata": {},
   "outputs": [
    {
     "data": {
      "text/html": [
       "<div>\n",
       "<style scoped>\n",
       "    .dataframe tbody tr th:only-of-type {\n",
       "        vertical-align: middle;\n",
       "    }\n",
       "\n",
       "    .dataframe tbody tr th {\n",
       "        vertical-align: top;\n",
       "    }\n",
       "\n",
       "    .dataframe thead th {\n",
       "        text-align: right;\n",
       "    }\n",
       "</style>\n",
       "<table border=\"1\" class=\"dataframe\">\n",
       "  <thead>\n",
       "    <tr style=\"text-align: right;\">\n",
       "      <th></th>\n",
       "      <th>ref_id</th>\n",
       "      <th>ref_type</th>\n",
       "      <th>file_name</th>\n",
       "      <th>query</th>\n",
       "      <th>FEAR_OF_THE_UNKNOWN</th>\n",
       "      <th>IMPLICIT_COLUMNS</th>\n",
       "    </tr>\n",
       "  </thead>\n",
       "  <tbody>\n",
       "    <tr>\n",
       "      <th>0</th>\n",
       "      <td>oltpbench-d97a34c952f90de191d76ab5efaf32860d58...</td>\n",
       "      <td>Encapsulate Attribute</td>\n",
       "      <td>['src/com/oltpbenchmark/api/Loader.java']</td>\n",
       "      <td>0</td>\n",
       "      <td>0</td>\n",
       "      <td>0</td>\n",
       "    </tr>\n",
       "    <tr>\n",
       "      <th>1</th>\n",
       "      <td>oltpbench-d77ff02e21a0b56e74ad35bb8cd53e9a5ea4...</td>\n",
       "      <td>Extract Subclass</td>\n",
       "      <td>['src/com/oltpbenchmark/api/collectors/NoopCol...</td>\n",
       "      <td>1</td>\n",
       "      <td>0</td>\n",
       "      <td>0</td>\n",
       "    </tr>\n",
       "    <tr>\n",
       "      <th>2</th>\n",
       "      <td>oltpbench-35114287311ebd257fa4cdf440d754f42016...</td>\n",
       "      <td>Add Parameter</td>\n",
       "      <td>['src/com/oltpbenchmark/benchmarks/tpch/TPCHLo...</td>\n",
       "      <td>0</td>\n",
       "      <td>0</td>\n",
       "      <td>0</td>\n",
       "    </tr>\n",
       "    <tr>\n",
       "      <th>3</th>\n",
       "      <td>oltpbench-35114287311ebd257fa4cdf440d754f42016...</td>\n",
       "      <td>Add Parameter</td>\n",
       "      <td>['src/com/oltpbenchmark/benchmarks/tpch/TPCHLo...</td>\n",
       "      <td>0</td>\n",
       "      <td>0</td>\n",
       "      <td>0</td>\n",
       "    </tr>\n",
       "    <tr>\n",
       "      <th>4</th>\n",
       "      <td>oltpbench-35114287311ebd257fa4cdf440d754f42016...</td>\n",
       "      <td>Add Parameter</td>\n",
       "      <td>['src/com/oltpbenchmark/benchmarks/tpch/TPCHLo...</td>\n",
       "      <td>0</td>\n",
       "      <td>0</td>\n",
       "      <td>0</td>\n",
       "    </tr>\n",
       "  </tbody>\n",
       "</table>\n",
       "</div>"
      ],
      "text/plain": [
       "                                              ref_id               ref_type  \\\n",
       "0  oltpbench-d97a34c952f90de191d76ab5efaf32860d58...  Encapsulate Attribute   \n",
       "1  oltpbench-d77ff02e21a0b56e74ad35bb8cd53e9a5ea4...       Extract Subclass   \n",
       "2  oltpbench-35114287311ebd257fa4cdf440d754f42016...          Add Parameter   \n",
       "3  oltpbench-35114287311ebd257fa4cdf440d754f42016...          Add Parameter   \n",
       "4  oltpbench-35114287311ebd257fa4cdf440d754f42016...          Add Parameter   \n",
       "\n",
       "                                           file_name  query  \\\n",
       "0          ['src/com/oltpbenchmark/api/Loader.java']      0   \n",
       "1  ['src/com/oltpbenchmark/api/collectors/NoopCol...      1   \n",
       "2  ['src/com/oltpbenchmark/benchmarks/tpch/TPCHLo...      0   \n",
       "3  ['src/com/oltpbenchmark/benchmarks/tpch/TPCHLo...      0   \n",
       "4  ['src/com/oltpbenchmark/benchmarks/tpch/TPCHLo...      0   \n",
       "\n",
       "   FEAR_OF_THE_UNKNOWN  IMPLICIT_COLUMNS  \n",
       "0                    0                 0  \n",
       "1                    0                 0  \n",
       "2                    0                 0  \n",
       "3                    0                 0  \n",
       "4                    0                 0  "
      ]
     },
     "execution_count": 118,
     "metadata": {},
     "output_type": "execute_result"
    }
   ],
   "source": [
    "rq4_method=pd.DataFrame(rq4_dataset_method)\n",
    "rq4_method.head()"
   ]
  },
  {
   "cell_type": "code",
   "execution_count": 122,
   "metadata": {},
   "outputs": [],
   "source": [
    "rq4_method.to_csv(\"RQ4-methodmatch-dataset.csv\", index=False)"
   ]
  },
  {
   "cell_type": "code",
   "execution_count": 126,
   "metadata": {},
   "outputs": [
    {
     "name": "stdout",
     "output_type": "stream",
     "text": [
      "Number of data-access refactoring instances: 18892\n",
      "Number of data-access refactoring instances that touch query: 86, pecentage: 0.4552191403768791\n"
     ]
    }
   ],
   "source": [
    "#percentage calculation refs vs sql, line level query\n",
    "total_refs= len(dac_ref.index)\n",
    "sql_refs= len(rq4_line[rq4_line[\"query\"]==1].index)\n",
    "percentage= (sql_refs*100)/total_refs\n",
    "print(\"Number of data-access refactoring instances: {}\".format(total_refs))\n",
    "len(rq4_line[rq4_line[\"query\"]==1])\n",
    "print(\"Number of data-access refactoring instances that touch query: {}, pecentage: {}\".format(sql_refs,percentage))"
   ]
  },
  {
   "cell_type": "code",
   "execution_count": 127,
   "metadata": {},
   "outputs": [
    {
     "data": {
      "text/html": [
       "<div>\n",
       "<style scoped>\n",
       "    .dataframe tbody tr th:only-of-type {\n",
       "        vertical-align: middle;\n",
       "    }\n",
       "\n",
       "    .dataframe tbody tr th {\n",
       "        vertical-align: top;\n",
       "    }\n",
       "\n",
       "    .dataframe thead th {\n",
       "        text-align: right;\n",
       "    }\n",
       "</style>\n",
       "<table border=\"1\" class=\"dataframe\">\n",
       "  <thead>\n",
       "    <tr style=\"text-align: right;\">\n",
       "      <th></th>\n",
       "      <th>ref_id</th>\n",
       "      <th>ref_type</th>\n",
       "      <th>file_name</th>\n",
       "      <th>query</th>\n",
       "      <th>FEAR_OF_THE_UNKNOWN</th>\n",
       "      <th>IMPLICIT_COLUMNS</th>\n",
       "    </tr>\n",
       "  </thead>\n",
       "  <tbody>\n",
       "    <tr>\n",
       "      <th>74</th>\n",
       "      <td>oltpbench-684986a1fac10da9270aadc3d93cda0d5eea...</td>\n",
       "      <td>Add Parameter</td>\n",
       "      <td>['src/com/oltpbenchmark/benchmarks/resourcestr...</td>\n",
       "      <td>1</td>\n",
       "      <td>0</td>\n",
       "      <td>0</td>\n",
       "    </tr>\n",
       "    <tr>\n",
       "      <th>75</th>\n",
       "      <td>oltpbench-684986a1fac10da9270aadc3d93cda0d5eea...</td>\n",
       "      <td>Add Parameter</td>\n",
       "      <td>['src/com/oltpbenchmark/benchmarks/resourcestr...</td>\n",
       "      <td>1</td>\n",
       "      <td>0</td>\n",
       "      <td>0</td>\n",
       "    </tr>\n",
       "    <tr>\n",
       "      <th>76</th>\n",
       "      <td>oltpbench-684986a1fac10da9270aadc3d93cda0d5eea...</td>\n",
       "      <td>Add Parameter</td>\n",
       "      <td>['src/com/oltpbenchmark/benchmarks/resourcestr...</td>\n",
       "      <td>1</td>\n",
       "      <td>0</td>\n",
       "      <td>0</td>\n",
       "    </tr>\n",
       "    <tr>\n",
       "      <th>77</th>\n",
       "      <td>oltpbench-684986a1fac10da9270aadc3d93cda0d5eea...</td>\n",
       "      <td>Remove Variable Modifier</td>\n",
       "      <td>['src/com/oltpbenchmark/benchmarks/resourcestr...</td>\n",
       "      <td>1</td>\n",
       "      <td>0</td>\n",
       "      <td>0</td>\n",
       "    </tr>\n",
       "    <tr>\n",
       "      <th>78</th>\n",
       "      <td>oltpbench-684986a1fac10da9270aadc3d93cda0d5eea...</td>\n",
       "      <td>Parameterize Variable</td>\n",
       "      <td>['src/com/oltpbenchmark/benchmarks/resourcestr...</td>\n",
       "      <td>1</td>\n",
       "      <td>0</td>\n",
       "      <td>0</td>\n",
       "    </tr>\n",
       "  </tbody>\n",
       "</table>\n",
       "</div>"
      ],
      "text/plain": [
       "                                               ref_id  \\\n",
       "74  oltpbench-684986a1fac10da9270aadc3d93cda0d5eea...   \n",
       "75  oltpbench-684986a1fac10da9270aadc3d93cda0d5eea...   \n",
       "76  oltpbench-684986a1fac10da9270aadc3d93cda0d5eea...   \n",
       "77  oltpbench-684986a1fac10da9270aadc3d93cda0d5eea...   \n",
       "78  oltpbench-684986a1fac10da9270aadc3d93cda0d5eea...   \n",
       "\n",
       "                    ref_type  \\\n",
       "74             Add Parameter   \n",
       "75             Add Parameter   \n",
       "76             Add Parameter   \n",
       "77  Remove Variable Modifier   \n",
       "78     Parameterize Variable   \n",
       "\n",
       "                                            file_name  query  \\\n",
       "74  ['src/com/oltpbenchmark/benchmarks/resourcestr...      1   \n",
       "75  ['src/com/oltpbenchmark/benchmarks/resourcestr...      1   \n",
       "76  ['src/com/oltpbenchmark/benchmarks/resourcestr...      1   \n",
       "77  ['src/com/oltpbenchmark/benchmarks/resourcestr...      1   \n",
       "78  ['src/com/oltpbenchmark/benchmarks/resourcestr...      1   \n",
       "\n",
       "    FEAR_OF_THE_UNKNOWN  IMPLICIT_COLUMNS  \n",
       "74                    0                 0  \n",
       "75                    0                 0  \n",
       "76                    0                 0  \n",
       "77                    0                 0  \n",
       "78                    0                 0  "
      ]
     },
     "execution_count": 127,
     "metadata": {},
     "output_type": "execute_result"
    }
   ],
   "source": [
    "sql_refs_l=rq4_line[rq4_line[\"query\"]==1]\n",
    "sql_refs_l.head()"
   ]
  },
  {
   "cell_type": "code",
   "execution_count": 130,
   "metadata": {},
   "outputs": [
    {
     "data": {
      "text/plain": [
       "ref_type\n",
       "Change Return Type          17\n",
       "Add Parameter               12\n",
       "Extract Method              10\n",
       "Change Variable Type         7\n",
       "Move Source Folder           5\n",
       "Extract Variable             5\n",
       "Inline Method                4\n",
       "Extract And Move Method      4\n",
       "Add Method Annotation        3\n",
       "Remove Variable Modifier     2\n",
       "Add Class Annotation         2\n",
       "Parameterize Variable        2\n",
       "Move Class                   2\n",
       "Inline Variable              2\n",
       "Rename Variable              1\n",
       "Change Package               1\n",
       "Change Attribute Type        1\n",
       "Extract Class                1\n",
       "Change Parameter Type        1\n",
       "Encapsulate Attribute        1\n",
       "Rename Attribute             1\n",
       "Remove Class Annotation      1\n",
       "Add Attribute Modifier       1\n",
       "dtype: int64"
      ]
     },
     "execution_count": 130,
     "metadata": {},
     "output_type": "execute_result"
    }
   ],
   "source": [
    "sql_refs_l.groupby(by=\"ref_type\").size().sort_values(ascending=False)"
   ]
  },
  {
   "cell_type": "code",
   "execution_count": 131,
   "metadata": {},
   "outputs": [
    {
     "data": {
      "text/plain": [
       "19.767441860465116"
      ]
     },
     "execution_count": 131,
     "metadata": {},
     "output_type": "execute_result"
    }
   ],
   "source": [
    "17*100/86"
   ]
  },
  {
   "cell_type": "code",
   "execution_count": 132,
   "metadata": {},
   "outputs": [
    {
     "data": {
      "text/plain": [
       "13.953488372093023"
      ]
     },
     "execution_count": 132,
     "metadata": {},
     "output_type": "execute_result"
    }
   ],
   "source": [
    "12*100/86"
   ]
  },
  {
   "cell_type": "code",
   "execution_count": 133,
   "metadata": {},
   "outputs": [
    {
     "data": {
      "text/plain": [
       "11.627906976744185"
      ]
     },
     "execution_count": 133,
     "metadata": {},
     "output_type": "execute_result"
    }
   ],
   "source": [
    "10*100/86"
   ]
  },
  {
   "cell_type": "code",
   "execution_count": 134,
   "metadata": {},
   "outputs": [
    {
     "data": {
      "text/plain": [
       "8.13953488372093"
      ]
     },
     "execution_count": 134,
     "metadata": {},
     "output_type": "execute_result"
    }
   ],
   "source": [
    "7*100/86"
   ]
  },
  {
   "cell_type": "code",
   "execution_count": 135,
   "metadata": {},
   "outputs": [
    {
     "name": "stdout",
     "output_type": "stream",
     "text": [
      "Number of data-access refactoring instances: 18892\n",
      "Number of data-access refactoring instances that touch query: 5607, pecentage: 29.67922930340885\n"
     ]
    }
   ],
   "source": [
    "#percentage calculation refs vs sql, method level\n",
    "total_refs= len(dac_ref.index)\n",
    "sql_refs= len(rq4_method[rq4_method[\"query\"]==1].index)\n",
    "percentage= (sql_refs*100)/total_refs\n",
    "print(\"Number of data-access refactoring instances: {}\".format(total_refs))\n",
    "len(rq4_line[rq4_line[\"query\"]==1])\n",
    "print(\"Number of data-access refactoring instances that touch query: {}, pecentage: {}\".format(sql_refs,percentage))"
   ]
  },
  {
   "cell_type": "code",
   "execution_count": 136,
   "metadata": {},
   "outputs": [
    {
     "data": {
      "text/plain": [
       "ref_type\n",
       "Rename Variable                    821\n",
       "Change Variable Type               603\n",
       "Add Parameter                      409\n",
       "Change Parameter Type              355\n",
       "Extract Method                     350\n",
       "Extract Variable                   320\n",
       "Rename Parameter                   301\n",
       "Add Parameter Modifier             273\n",
       "Change Thrown Exception Type       265\n",
       "Rename Method                      230\n",
       "Change Return Type                 211\n",
       "Inline Variable                    175\n",
       "Extract And Move Method            125\n",
       "Add Thrown Exception Type          118\n",
       "Add Method Annotation              116\n",
       "Remove Parameter Modifier          115\n",
       "Add Variable Modifier               98\n",
       "Remove Method Annotation            89\n",
       "Change Method Access Modifier       87\n",
       "Remove Parameter                    83\n",
       "Remove Thrown Exception Type        76\n",
       "Move And Inline Method              75\n",
       "Remove Method Modifier              54\n",
       "Inline Method                       53\n",
       "Move Method                         50\n",
       "Pull Up Method                      21\n",
       "Add Method Modifier                 20\n",
       "Move And Rename Method              18\n",
       "Parameterize Variable               15\n",
       "Remove Variable Modifier            13\n",
       "Replace Variable With Attribute     10\n",
       "Add Parameter Annotation             7\n",
       "Merge Variable                       7\n",
       "Extract Class                        7\n",
       "Merge Parameter                      7\n",
       "Replace Attribute With Variable      7\n",
       "Parameterize Attribute               4\n",
       "Remove Variable Annotation           4\n",
       "Add Variable Annotation              3\n",
       "Push Down Method                     3\n",
       "Reorder Parameter                    3\n",
       "Modify Method Annotation             2\n",
       "Split Parameter                      2\n",
       "Encapsulate Attribute                1\n",
       "Extract Subclass                     1\n",
       "dtype: int64"
      ]
     },
     "execution_count": 136,
     "metadata": {},
     "output_type": "execute_result"
    }
   ],
   "source": [
    "sql_refs_m=rq4_method[rq4_method[\"query\"]==1]\n",
    "sql_refs_m.groupby(by=\"ref_type\").size().sort_values(ascending=False)"
   ]
  },
  {
   "cell_type": "code",
   "execution_count": 137,
   "metadata": {},
   "outputs": [
    {
     "data": {
      "text/plain": [
       "14.642411271624756"
      ]
     },
     "execution_count": 137,
     "metadata": {},
     "output_type": "execute_result"
    }
   ],
   "source": [
    "821*100/5607"
   ]
  },
  {
   "cell_type": "code",
   "execution_count": 138,
   "metadata": {},
   "outputs": [
    {
     "data": {
      "text/plain": [
       "10.754414125200642"
      ]
     },
     "execution_count": 138,
     "metadata": {},
     "output_type": "execute_result"
    }
   ],
   "source": [
    "603*100/5607"
   ]
  },
  {
   "cell_type": "code",
   "execution_count": 139,
   "metadata": {},
   "outputs": [
    {
     "data": {
      "text/plain": [
       "7.294453361869092"
      ]
     },
     "execution_count": 139,
     "metadata": {},
     "output_type": "execute_result"
    }
   ],
   "source": [
    "409*100/5607"
   ]
  },
  {
   "cell_type": "code",
   "execution_count": 140,
   "metadata": {},
   "outputs": [
    {
     "data": {
      "text/plain": [
       "6.3313714999108255"
      ]
     },
     "execution_count": 140,
     "metadata": {},
     "output_type": "execute_result"
    }
   ],
   "source": [
    "355*100/5607"
   ]
  },
  {
   "cell_type": "code",
   "execution_count": 141,
   "metadata": {},
   "outputs": [
    {
     "data": {
      "text/plain": [
       "0.10700909577314072"
      ]
     },
     "execution_count": 141,
     "metadata": {},
     "output_type": "execute_result"
    }
   ],
   "source": [
    "6*100/5607"
   ]
  },
  {
   "cell_type": "code",
   "execution_count": 143,
   "metadata": {},
   "outputs": [
    {
     "data": {
      "text/html": [
       "<div>\n",
       "<style scoped>\n",
       "    .dataframe tbody tr th:only-of-type {\n",
       "        vertical-align: middle;\n",
       "    }\n",
       "\n",
       "    .dataframe tbody tr th {\n",
       "        vertical-align: top;\n",
       "    }\n",
       "\n",
       "    .dataframe thead th {\n",
       "        text-align: right;\n",
       "    }\n",
       "</style>\n",
       "<table border=\"1\" class=\"dataframe\">\n",
       "  <thead>\n",
       "    <tr style=\"text-align: right;\">\n",
       "      <th></th>\n",
       "      <th>ref_id</th>\n",
       "      <th>ref_type</th>\n",
       "      <th>file_name</th>\n",
       "      <th>query</th>\n",
       "      <th>FEAR_OF_THE_UNKNOWN</th>\n",
       "      <th>IMPLICIT_COLUMNS</th>\n",
       "    </tr>\n",
       "  </thead>\n",
       "  <tbody>\n",
       "    <tr>\n",
       "      <th>0</th>\n",
       "      <td>oltpbench-d97a34c952f90de191d76ab5efaf32860d58...</td>\n",
       "      <td>Encapsulate Attribute</td>\n",
       "      <td>['src/com/oltpbenchmark/api/Loader.java']</td>\n",
       "      <td>0</td>\n",
       "      <td>0</td>\n",
       "      <td>0</td>\n",
       "    </tr>\n",
       "    <tr>\n",
       "      <th>1</th>\n",
       "      <td>oltpbench-d77ff02e21a0b56e74ad35bb8cd53e9a5ea4...</td>\n",
       "      <td>Extract Subclass</td>\n",
       "      <td>['src/com/oltpbenchmark/api/collectors/NoopCol...</td>\n",
       "      <td>0</td>\n",
       "      <td>0</td>\n",
       "      <td>0</td>\n",
       "    </tr>\n",
       "    <tr>\n",
       "      <th>2</th>\n",
       "      <td>oltpbench-35114287311ebd257fa4cdf440d754f42016...</td>\n",
       "      <td>Add Parameter</td>\n",
       "      <td>['src/com/oltpbenchmark/benchmarks/tpch/TPCHLo...</td>\n",
       "      <td>0</td>\n",
       "      <td>0</td>\n",
       "      <td>0</td>\n",
       "    </tr>\n",
       "    <tr>\n",
       "      <th>3</th>\n",
       "      <td>oltpbench-35114287311ebd257fa4cdf440d754f42016...</td>\n",
       "      <td>Add Parameter</td>\n",
       "      <td>['src/com/oltpbenchmark/benchmarks/tpch/TPCHLo...</td>\n",
       "      <td>0</td>\n",
       "      <td>0</td>\n",
       "      <td>0</td>\n",
       "    </tr>\n",
       "    <tr>\n",
       "      <th>4</th>\n",
       "      <td>oltpbench-35114287311ebd257fa4cdf440d754f42016...</td>\n",
       "      <td>Add Parameter</td>\n",
       "      <td>['src/com/oltpbenchmark/benchmarks/tpch/TPCHLo...</td>\n",
       "      <td>0</td>\n",
       "      <td>0</td>\n",
       "      <td>0</td>\n",
       "    </tr>\n",
       "  </tbody>\n",
       "</table>\n",
       "</div>"
      ],
      "text/plain": [
       "                                              ref_id               ref_type  \\\n",
       "0  oltpbench-d97a34c952f90de191d76ab5efaf32860d58...  Encapsulate Attribute   \n",
       "1  oltpbench-d77ff02e21a0b56e74ad35bb8cd53e9a5ea4...       Extract Subclass   \n",
       "2  oltpbench-35114287311ebd257fa4cdf440d754f42016...          Add Parameter   \n",
       "3  oltpbench-35114287311ebd257fa4cdf440d754f42016...          Add Parameter   \n",
       "4  oltpbench-35114287311ebd257fa4cdf440d754f42016...          Add Parameter   \n",
       "\n",
       "                                           file_name  query  \\\n",
       "0          ['src/com/oltpbenchmark/api/Loader.java']      0   \n",
       "1  ['src/com/oltpbenchmark/api/collectors/NoopCol...      0   \n",
       "2  ['src/com/oltpbenchmark/benchmarks/tpch/TPCHLo...      0   \n",
       "3  ['src/com/oltpbenchmark/benchmarks/tpch/TPCHLo...      0   \n",
       "4  ['src/com/oltpbenchmark/benchmarks/tpch/TPCHLo...      0   \n",
       "\n",
       "   FEAR_OF_THE_UNKNOWN  IMPLICIT_COLUMNS  \n",
       "0                    0                 0  \n",
       "1                    0                 0  \n",
       "2                    0                 0  \n",
       "3                    0                 0  \n",
       "4                    0                 0  "
      ]
     },
     "execution_count": 143,
     "metadata": {},
     "output_type": "execute_result"
    }
   ],
   "source": [
    "rq4_line.head()"
   ]
  },
  {
   "cell_type": "code",
   "execution_count": 146,
   "metadata": {},
   "outputs": [
    {
     "data": {
      "text/html": [
       "<div>\n",
       "<style scoped>\n",
       "    .dataframe tbody tr th:only-of-type {\n",
       "        vertical-align: middle;\n",
       "    }\n",
       "\n",
       "    .dataframe tbody tr th {\n",
       "        vertical-align: top;\n",
       "    }\n",
       "\n",
       "    .dataframe thead th {\n",
       "        text-align: right;\n",
       "    }\n",
       "</style>\n",
       "<table border=\"1\" class=\"dataframe\">\n",
       "  <thead>\n",
       "    <tr style=\"text-align: right;\">\n",
       "      <th></th>\n",
       "      <th>ref_id</th>\n",
       "      <th>ref_type</th>\n",
       "      <th>file_name</th>\n",
       "      <th>query</th>\n",
       "      <th>FEAR_OF_THE_UNKNOWN</th>\n",
       "      <th>IMPLICIT_COLUMNS</th>\n",
       "      <th>smell</th>\n",
       "    </tr>\n",
       "  </thead>\n",
       "  <tbody>\n",
       "    <tr>\n",
       "      <th>0</th>\n",
       "      <td>oltpbench-d97a34c952f90de191d76ab5efaf32860d58...</td>\n",
       "      <td>Encapsulate Attribute</td>\n",
       "      <td>['src/com/oltpbenchmark/api/Loader.java']</td>\n",
       "      <td>0</td>\n",
       "      <td>0</td>\n",
       "      <td>0</td>\n",
       "      <td>0</td>\n",
       "    </tr>\n",
       "    <tr>\n",
       "      <th>1</th>\n",
       "      <td>oltpbench-d77ff02e21a0b56e74ad35bb8cd53e9a5ea4...</td>\n",
       "      <td>Extract Subclass</td>\n",
       "      <td>['src/com/oltpbenchmark/api/collectors/NoopCol...</td>\n",
       "      <td>0</td>\n",
       "      <td>0</td>\n",
       "      <td>0</td>\n",
       "      <td>0</td>\n",
       "    </tr>\n",
       "    <tr>\n",
       "      <th>2</th>\n",
       "      <td>oltpbench-35114287311ebd257fa4cdf440d754f42016...</td>\n",
       "      <td>Add Parameter</td>\n",
       "      <td>['src/com/oltpbenchmark/benchmarks/tpch/TPCHLo...</td>\n",
       "      <td>0</td>\n",
       "      <td>0</td>\n",
       "      <td>0</td>\n",
       "      <td>0</td>\n",
       "    </tr>\n",
       "    <tr>\n",
       "      <th>3</th>\n",
       "      <td>oltpbench-35114287311ebd257fa4cdf440d754f42016...</td>\n",
       "      <td>Add Parameter</td>\n",
       "      <td>['src/com/oltpbenchmark/benchmarks/tpch/TPCHLo...</td>\n",
       "      <td>0</td>\n",
       "      <td>0</td>\n",
       "      <td>0</td>\n",
       "      <td>0</td>\n",
       "    </tr>\n",
       "    <tr>\n",
       "      <th>4</th>\n",
       "      <td>oltpbench-35114287311ebd257fa4cdf440d754f42016...</td>\n",
       "      <td>Add Parameter</td>\n",
       "      <td>['src/com/oltpbenchmark/benchmarks/tpch/TPCHLo...</td>\n",
       "      <td>0</td>\n",
       "      <td>0</td>\n",
       "      <td>0</td>\n",
       "      <td>0</td>\n",
       "    </tr>\n",
       "  </tbody>\n",
       "</table>\n",
       "</div>"
      ],
      "text/plain": [
       "                                              ref_id               ref_type  \\\n",
       "0  oltpbench-d97a34c952f90de191d76ab5efaf32860d58...  Encapsulate Attribute   \n",
       "1  oltpbench-d77ff02e21a0b56e74ad35bb8cd53e9a5ea4...       Extract Subclass   \n",
       "2  oltpbench-35114287311ebd257fa4cdf440d754f42016...          Add Parameter   \n",
       "3  oltpbench-35114287311ebd257fa4cdf440d754f42016...          Add Parameter   \n",
       "4  oltpbench-35114287311ebd257fa4cdf440d754f42016...          Add Parameter   \n",
       "\n",
       "                                           file_name  query  \\\n",
       "0          ['src/com/oltpbenchmark/api/Loader.java']      0   \n",
       "1  ['src/com/oltpbenchmark/api/collectors/NoopCol...      0   \n",
       "2  ['src/com/oltpbenchmark/benchmarks/tpch/TPCHLo...      0   \n",
       "3  ['src/com/oltpbenchmark/benchmarks/tpch/TPCHLo...      0   \n",
       "4  ['src/com/oltpbenchmark/benchmarks/tpch/TPCHLo...      0   \n",
       "\n",
       "   FEAR_OF_THE_UNKNOWN  IMPLICIT_COLUMNS  smell  \n",
       "0                    0                 0      0  \n",
       "1                    0                 0      0  \n",
       "2                    0                 0      0  \n",
       "3                    0                 0      0  \n",
       "4                    0                 0      0  "
      ]
     },
     "execution_count": 146,
     "metadata": {},
     "output_type": "execute_result"
    }
   ],
   "source": [
    "rq4_line.head()"
   ]
  },
  {
   "cell_type": "markdown",
   "metadata": {},
   "source": [
    "<h3>Smells</h3>"
   ]
  },
  {
   "cell_type": "code",
   "execution_count": 157,
   "metadata": {},
   "outputs": [],
   "source": [
    "#SQL smells line level\n",
    "rq4_line[\"smell\"]=rq4_line[\"IMPLICIT_COLUMNS\"]+rq4_line[\"FEAR_OF_THE_UNKNOWN\"]"
   ]
  },
  {
   "cell_type": "code",
   "execution_count": 158,
   "metadata": {},
   "outputs": [],
   "source": [
    "#SQL smells method level\n",
    "rq4_method[\"smell\"]=rq4_method[\"IMPLICIT_COLUMNS\"]+rq4_method[\"FEAR_OF_THE_UNKNOWN\"]"
   ]
  },
  {
   "cell_type": "code",
   "execution_count": 161,
   "metadata": {},
   "outputs": [
    {
     "name": "stdout",
     "output_type": "stream",
     "text": [
      "Number of data-access refactoring instances: 18892\n",
      "Number of data-access refactoring instances that touch smell: 0, pecentage: 0.0\n"
     ]
    }
   ],
   "source": [
    "#percentage calculation refs vs sql, line level\n",
    "total_refs= len(dac_ref.index)\n",
    "smell_refs= len(rq4_line[rq4_line[\"smell\"]>=1].index)\n",
    "percentage= (smell_refs*100)/total_refs\n",
    "print(\"Number of data-access refactoring instances: {}\".format(total_refs))\n",
    "len(rq4_line[rq4_line[\"smell\"]>=1].index)\n",
    "print(\"Number of data-access refactoring instances that touch smell: {}, pecentage: {}\".format(smell_refs,percentage))"
   ]
  },
  {
   "cell_type": "code",
   "execution_count": 160,
   "metadata": {},
   "outputs": [
    {
     "name": "stdout",
     "output_type": "stream",
     "text": [
      "Number of data-access refactoring instances: 18892\n",
      "Number of data-access refactoring instances that touch smell: 256, pecentage: 1.3550709294939658\n"
     ]
    }
   ],
   "source": [
    "#percentage calculation refs vs sql, method level\n",
    "total_refs= len(dac_ref.index)\n",
    "smell_refs= len(rq4_method[rq4_method[\"smell\"]>=1].index)\n",
    "percentage= (smell_refs*100)/total_refs\n",
    "print(\"Number of data-access refactoring instances: {}\".format(total_refs))\n",
    "len(rq4_method[rq4_method[\"smell\"]>=1].index)\n",
    "print(\"Number of data-access refactoring instances that touch smell: {}, pecentage: {}\".format(smell_refs,percentage))"
   ]
  },
  {
   "cell_type": "code",
   "execution_count": 153,
   "metadata": {},
   "outputs": [
    {
     "data": {
      "text/html": [
       "<div>\n",
       "<style scoped>\n",
       "    .dataframe tbody tr th:only-of-type {\n",
       "        vertical-align: middle;\n",
       "    }\n",
       "\n",
       "    .dataframe tbody tr th {\n",
       "        vertical-align: top;\n",
       "    }\n",
       "\n",
       "    .dataframe thead th {\n",
       "        text-align: right;\n",
       "    }\n",
       "</style>\n",
       "<table border=\"1\" class=\"dataframe\">\n",
       "  <thead>\n",
       "    <tr style=\"text-align: right;\">\n",
       "      <th></th>\n",
       "      <th>ref_id</th>\n",
       "      <th>ref_type</th>\n",
       "      <th>file_name</th>\n",
       "      <th>query</th>\n",
       "      <th>FEAR_OF_THE_UNKNOWN</th>\n",
       "      <th>IMPLICIT_COLUMNS</th>\n",
       "      <th>smell</th>\n",
       "    </tr>\n",
       "  </thead>\n",
       "  <tbody>\n",
       "    <tr>\n",
       "      <th>1905</th>\n",
       "      <td>Applozic-Android-SDK-6d74704063e40d62e6891a33c...</td>\n",
       "      <td>Rename Method</td>\n",
       "      <td>['mobicomkit/src/main/java/com/applozic/mobico...</td>\n",
       "      <td>1</td>\n",
       "      <td>1</td>\n",
       "      <td>1</td>\n",
       "      <td>1</td>\n",
       "    </tr>\n",
       "    <tr>\n",
       "      <th>3888</th>\n",
       "      <td>WordPress-Android-ee8c44e9d898472f54ee31cfdc6e...</td>\n",
       "      <td>Change Return Type</td>\n",
       "      <td>['src/org/wordpress/android/datasets/ReaderBlo...</td>\n",
       "      <td>1</td>\n",
       "      <td>1</td>\n",
       "      <td>1</td>\n",
       "      <td>1</td>\n",
       "    </tr>\n",
       "    <tr>\n",
       "      <th>3891</th>\n",
       "      <td>WordPress-Android-ee8c44e9d898472f54ee31cfdc6e...</td>\n",
       "      <td>Inline Method</td>\n",
       "      <td>['src/org/wordpress/android/datasets/ReaderBlo...</td>\n",
       "      <td>1</td>\n",
       "      <td>1</td>\n",
       "      <td>1</td>\n",
       "      <td>1</td>\n",
       "    </tr>\n",
       "    <tr>\n",
       "      <th>3892</th>\n",
       "      <td>WordPress-Android-ee8c44e9d898472f54ee31cfdc6e...</td>\n",
       "      <td>Change Variable Type</td>\n",
       "      <td>['src/org/wordpress/android/datasets/ReaderBlo...</td>\n",
       "      <td>1</td>\n",
       "      <td>1</td>\n",
       "      <td>1</td>\n",
       "      <td>1</td>\n",
       "    </tr>\n",
       "    <tr>\n",
       "      <th>3893</th>\n",
       "      <td>WordPress-Android-ee8c44e9d898472f54ee31cfdc6e...</td>\n",
       "      <td>Change Variable Type</td>\n",
       "      <td>['src/org/wordpress/android/datasets/ReaderBlo...</td>\n",
       "      <td>1</td>\n",
       "      <td>1</td>\n",
       "      <td>1</td>\n",
       "      <td>1</td>\n",
       "    </tr>\n",
       "    <tr>\n",
       "      <th>3896</th>\n",
       "      <td>WordPress-Android-ee8c44e9d898472f54ee31cfdc6e...</td>\n",
       "      <td>Change Variable Type</td>\n",
       "      <td>['src/org/wordpress/android/datasets/ReaderBlo...</td>\n",
       "      <td>1</td>\n",
       "      <td>1</td>\n",
       "      <td>1</td>\n",
       "      <td>1</td>\n",
       "    </tr>\n",
       "    <tr>\n",
       "      <th>3897</th>\n",
       "      <td>WordPress-Android-ee8c44e9d898472f54ee31cfdc6e...</td>\n",
       "      <td>Rename Variable</td>\n",
       "      <td>['src/org/wordpress/android/datasets/ReaderBlo...</td>\n",
       "      <td>1</td>\n",
       "      <td>1</td>\n",
       "      <td>1</td>\n",
       "      <td>1</td>\n",
       "    </tr>\n",
       "  </tbody>\n",
       "</table>\n",
       "</div>"
      ],
      "text/plain": [
       "                                                 ref_id              ref_type  \\\n",
       "1905  Applozic-Android-SDK-6d74704063e40d62e6891a33c...         Rename Method   \n",
       "3888  WordPress-Android-ee8c44e9d898472f54ee31cfdc6e...    Change Return Type   \n",
       "3891  WordPress-Android-ee8c44e9d898472f54ee31cfdc6e...         Inline Method   \n",
       "3892  WordPress-Android-ee8c44e9d898472f54ee31cfdc6e...  Change Variable Type   \n",
       "3893  WordPress-Android-ee8c44e9d898472f54ee31cfdc6e...  Change Variable Type   \n",
       "3896  WordPress-Android-ee8c44e9d898472f54ee31cfdc6e...  Change Variable Type   \n",
       "3897  WordPress-Android-ee8c44e9d898472f54ee31cfdc6e...       Rename Variable   \n",
       "\n",
       "                                              file_name  query  \\\n",
       "1905  ['mobicomkit/src/main/java/com/applozic/mobico...      1   \n",
       "3888  ['src/org/wordpress/android/datasets/ReaderBlo...      1   \n",
       "3891  ['src/org/wordpress/android/datasets/ReaderBlo...      1   \n",
       "3892  ['src/org/wordpress/android/datasets/ReaderBlo...      1   \n",
       "3893  ['src/org/wordpress/android/datasets/ReaderBlo...      1   \n",
       "3896  ['src/org/wordpress/android/datasets/ReaderBlo...      1   \n",
       "3897  ['src/org/wordpress/android/datasets/ReaderBlo...      1   \n",
       "\n",
       "      FEAR_OF_THE_UNKNOWN  IMPLICIT_COLUMNS  smell  \n",
       "1905                    1                 1      1  \n",
       "3888                    1                 1      1  \n",
       "3891                    1                 1      1  \n",
       "3892                    1                 1      1  \n",
       "3893                    1                 1      1  \n",
       "3896                    1                 1      1  \n",
       "3897                    1                 1      1  "
      ]
     },
     "execution_count": 153,
     "metadata": {},
     "output_type": "execute_result"
    }
   ],
   "source": [
    "rq4_method[rq4_method[\"smell\"]>=1]"
   ]
  },
  {
   "cell_type": "code",
   "execution_count": 163,
   "metadata": {},
   "outputs": [
    {
     "data": {
      "text/plain": [
       "ref_type\n",
       "Rename Variable                  60\n",
       "Extract Method                   30\n",
       "Rename Method                    26\n",
       "Add Parameter                    24\n",
       "Change Variable Type             21\n",
       "Rename Parameter                 16\n",
       "Change Return Type               15\n",
       "Change Parameter Type            14\n",
       "Remove Parameter                  8\n",
       "Extract And Move Method           8\n",
       "Inline Method                     7\n",
       "Extract Variable                  6\n",
       "Add Thrown Exception Type         4\n",
       "Change Thrown Exception Type      4\n",
       "Remove Method Annotation          3\n",
       "Inline Variable                   2\n",
       "Remove Method Modifier            2\n",
       "Change Method Access Modifier     2\n",
       "Extract Class                     1\n",
       "Add Variable Modifier             1\n",
       "Parameterize Variable             1\n",
       "Add Method Annotation             1\n",
       "dtype: int64"
      ]
     },
     "execution_count": 163,
     "metadata": {},
     "output_type": "execute_result"
    }
   ],
   "source": [
    "s=rq4_method[rq4_method[\"smell\"]>=1]\n",
    "s.groupby(by=\"ref_type\").size().sort_values(ascending=False)"
   ]
  },
  {
   "cell_type": "code",
   "execution_count": 164,
   "metadata": {},
   "outputs": [
    {
     "data": {
      "text/plain": [
       "23.4375"
      ]
     },
     "execution_count": 164,
     "metadata": {},
     "output_type": "execute_result"
    }
   ],
   "source": [
    "60* 100/256"
   ]
  },
  {
   "cell_type": "code",
   "execution_count": 165,
   "metadata": {},
   "outputs": [
    {
     "data": {
      "text/plain": [
       "11.71875"
      ]
     },
     "execution_count": 165,
     "metadata": {},
     "output_type": "execute_result"
    }
   ],
   "source": [
    "30*100/256"
   ]
  },
  {
   "cell_type": "code",
   "execution_count": 166,
   "metadata": {},
   "outputs": [
    {
     "data": {
      "text/plain": [
       "10.15625"
      ]
     },
     "execution_count": 166,
     "metadata": {},
     "output_type": "execute_result"
    }
   ],
   "source": [
    "26*100/256"
   ]
  },
  {
   "cell_type": "code",
   "execution_count": 167,
   "metadata": {},
   "outputs": [
    {
     "data": {
      "text/plain": [
       "9.375"
      ]
     },
     "execution_count": 167,
     "metadata": {},
     "output_type": "execute_result"
    }
   ],
   "source": [
    "24*100/256"
   ]
  },
  {
   "cell_type": "code",
   "execution_count": 168,
   "metadata": {},
   "outputs": [
    {
     "data": {
      "text/plain": [
       "8.203125"
      ]
     },
     "execution_count": 168,
     "metadata": {},
     "output_type": "execute_result"
    }
   ],
   "source": [
    "21*100/256"
   ]
  },
  {
   "cell_type": "code",
   "execution_count": 176,
   "metadata": {},
   "outputs": [
    {
     "name": "stdout",
     "output_type": "stream",
     "text": [
      "200\n",
      "256\n"
     ]
    }
   ],
   "source": [
    "total_smell=len(rq4_method[rq4_method[\"smell\"]>=1].index)\n",
    "ic_smell=len((rq4_method[(rq4_method[\"IMPLICIT_COLUMNS\"]>=1) & (rq4_method[\"FEAR_OF_THE_UNKNOWN\"]==0)].index))\n",
    "print(ic_smell)\n",
    "print(total_smell)"
   ]
  },
  {
   "cell_type": "code",
   "execution_count": 177,
   "metadata": {},
   "outputs": [
    {
     "name": "stdout",
     "output_type": "stream",
     "text": [
      "49\n",
      "256\n"
     ]
    }
   ],
   "source": [
    "total_smell=len(rq4_method[rq4_method[\"smell\"]>=1].index)\n",
    "fu_smell=len((rq4_method[(rq4_method[\"IMPLICIT_COLUMNS\"]==0) & (rq4_method[\"FEAR_OF_THE_UNKNOWN\"]==1)].index))\n",
    "print(fu_smell)\n",
    "print(total_smell)"
   ]
  },
  {
   "cell_type": "code",
   "execution_count": 178,
   "metadata": {},
   "outputs": [
    {
     "data": {
      "text/plain": [
       "78.125"
      ]
     },
     "execution_count": 178,
     "metadata": {},
     "output_type": "execute_result"
    }
   ],
   "source": [
    "200*100/256"
   ]
  },
  {
   "cell_type": "code",
   "execution_count": 179,
   "metadata": {},
   "outputs": [
    {
     "data": {
      "text/plain": [
       "19.140625"
      ]
     },
     "execution_count": 179,
     "metadata": {},
     "output_type": "execute_result"
    }
   ],
   "source": [
    "49*100/256"
   ]
  },
  {
   "cell_type": "code",
   "execution_count": null,
   "metadata": {},
   "outputs": [],
   "source": []
  }
 ],
 "metadata": {
  "kernelspec": {
   "display_name": "Python 3",
   "language": "python",
   "name": "python3"
  },
  "language_info": {
   "codemirror_mode": {
    "name": "ipython",
    "version": 3
   },
   "file_extension": ".py",
   "mimetype": "text/x-python",
   "name": "python",
   "nbconvert_exporter": "python",
   "pygments_lexer": "ipython3",
   "version": "3.8.3"
  }
 },
 "nbformat": 4,
 "nbformat_minor": 4
}
